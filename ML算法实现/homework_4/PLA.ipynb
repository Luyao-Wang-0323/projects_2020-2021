{
 "cells": [
  {
   "cell_type": "code",
   "execution_count": 8,
   "metadata": {},
   "outputs": [],
   "source": [
    "import numpy as np \n",
    "def loadData(filename):\n",
    "    data=open(filename,'r').readlines()\n",
    "    datasetx=[]\n",
    "    datasety=[]\n",
    "    for line in data:\n",
    "        Stringlist = ('1,'+line).split(',')\n",
    "        Stringlist[0]=float(Stringlist[0])\n",
    "        Stringlist[1]=float(Stringlist[1])\n",
    "        Stringlist[2]=float(Stringlist[2])\n",
    "        Stringlist[3]=float(Stringlist[3])\n",
    "        Stringlist[4]=int(Stringlist[4])\n",
    "        datasetx.append(Stringlist[:4])\n",
    "        datasety.append(Stringlist[4])\n",
    "    return np.array(datasetx),np.array(datasety)"
   ]
  },
  {
   "cell_type": "code",
   "execution_count": 9,
   "metadata": {},
   "outputs": [],
   "source": [
    "def Percetron_Learning(X,y,learning_rate):\n",
    "    m,n=X.shape\n",
    "    w=np.random.random(n)\n",
    "    while True:\n",
    "        i=np.random.randint(m)\n",
    "        if y[i]==1 and np.dot(w,X[i,:])<0:\n",
    "            w=w+learning_rate*X[i,:]\n",
    "        elif y[i]==-1 and np.dot(w,X[i,:])>=0:\n",
    "            w=w-learning_rate*X[i,:]\n",
    "        \n",
    "        predict=predict_y(X,w)\n",
    "        if np.all(predict==y):\n",
    "            constraint=0\n",
    "            for p in range(len(predict)):\n",
    "                if predict[p]!=y[p]:\n",
    "                    constraint+=1\n",
    "            accuracy=accuracy=1-float(constraint)/float(m)\n",
    "            break\n",
    "    return w,accuracy\n",
    " \n",
    "#指示函数\n",
    "def predict_y(X,w):\n",
    "    predict=np.dot(X,w)\n",
    "    predict[predict>=0]=1\n",
    "    predict[predict<0]=-1\n",
    "    return predict"
   ]
  },
  {
   "cell_type": "code",
   "execution_count": 10,
   "metadata": {},
   "outputs": [
    {
     "name": "stdout",
     "output_type": "stream",
     "text": [
      "weight: [ 0.0139816   4.88867956 -3.93009631 -2.94252846] \n",
      "accuracy: 1.0\n"
     ]
    }
   ],
   "source": [
    "X,y=loadData(\"classification.txt\")\n",
    "learning_rate=np.random.random()\n",
    "w,accuracy=Percetron_Learning(X,y,learning_rate)\n",
    "print('weight:',w,'\\naccuracy:',accuracy)\n"
   ]
  },
  {
   "cell_type": "code",
   "execution_count": null,
   "metadata": {},
   "outputs": [],
   "source": []
  },
  {
   "cell_type": "code",
   "execution_count": null,
   "metadata": {},
   "outputs": [],
   "source": []
  }
 ],
 "metadata": {
  "kernelspec": {
   "display_name": "Python 3",
   "language": "python",
   "name": "python3"
  },
  "language_info": {
   "codemirror_mode": {
    "name": "ipython",
    "version": 3
   },
   "file_extension": ".py",
   "mimetype": "text/x-python",
   "name": "python",
   "nbconvert_exporter": "python",
   "pygments_lexer": "ipython3",
   "version": "3.7.4"
  }
 },
 "nbformat": 4,
 "nbformat_minor": 4
}
