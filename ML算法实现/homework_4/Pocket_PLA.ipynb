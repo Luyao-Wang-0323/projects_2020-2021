{
 "cells": [
  {
   "cell_type": "code",
   "execution_count": 4,
   "metadata": {},
   "outputs": [],
   "source": [
    "import numpy as np \n",
    "def loadData(filename):\n",
    "    data=open(filename,'r').readlines()\n",
    "    datasetx=[]\n",
    "    datasety=[]\n",
    "    for line in data:\n",
    "        Stringlist = ('1,'+line).split(',')\n",
    "        Stringlist[0]=float(Stringlist[0])\n",
    "        Stringlist[1]=float(Stringlist[1])\n",
    "        Stringlist[2]=float(Stringlist[2])\n",
    "        Stringlist[3]=float(Stringlist[3])\n",
    "        Stringlist[5]=int(Stringlist[5])\n",
    "        datasetx.append(Stringlist[:4])\n",
    "        datasety.append(Stringlist[5])\n",
    "    return np.array(datasetx),np.array(datasety)"
   ]
  },
  {
   "cell_type": "code",
   "execution_count": 5,
   "metadata": {},
   "outputs": [],
   "source": [
    "def Percetron_Learning_nonlinear(X,y,learning_rate):\n",
    "    m,n=X.shape\n",
    "    w=np.random.random(n)\n",
    "    w_record=[]\n",
    "    w_constraint=[]\n",
    "    times=0\n",
    "    while True:\n",
    "        i=np.random.randint(m)\n",
    "        if y[i]==1 and np.dot(w,X[i,:])<0:\n",
    "            w=w+learning_rate*X[i,:]\n",
    "        elif y[i]==-1 and np.dot(w,X[i,:])>=0:\n",
    "            w=w-learning_rate*X[i,:]\n",
    "\n",
    "        predict=predict_y(X,w)\n",
    "        \n",
    "        constraint=0\n",
    "        for p in range(len(predict)):\n",
    "            if predict[p]!=y[p]:\n",
    "                constraint+=1\n",
    "        w_record.append(w)\n",
    "        w_constraint.append(constraint)\n",
    "        times+=1\n",
    "        if times>7000:\n",
    "            index=w_constraint.index(min(w_constraint))\n",
    "            final_w=w_record[index]\n",
    "            accuracy=1-float(min(w_constraint))/float(m)\n",
    "            print('accuracy:',accuracy)\n",
    "            break\n",
    "    return final_w,w_record,w_constraint\n",
    " #指示函数\n",
    "def predict_y(X,w):\n",
    "    predict=np.dot(X,w)\n",
    "    predict[predict>=0]=1\n",
    "    predict[predict<0]=-1\n",
    "    return predict"
   ]
  },
  {
   "cell_type": "code",
   "execution_count": 6,
   "metadata": {},
   "outputs": [
    {
     "name": "stdout",
     "output_type": "stream",
     "text": [
      "accuracy: 0.5355\n",
      "weight: [ 0.01360815 -0.12665763  0.08826616  0.00923548]\n"
     ]
    }
   ],
   "source": [
    "X,y=loadData(\"classification.txt\")\n",
    "learning_rate=0.1\n",
    "#np.random.random()\n",
    "w,w_record,w_constraint=Percetron_Learning_nonlinear(X,y,learning_rate)\n",
    "print('weight:',w)"
   ]
  },
  {
   "cell_type": "code",
   "execution_count": 10,
   "metadata": {},
   "outputs": [
    {
     "data": {
      "image/png": "[encoded data removed]",
      "text/plain": [
       "<Figure size 432x288 with 1 Axes>"
      ]
     },
     "metadata": {
      "needs_background": "light"
     },
     "output_type": "display_data"
    }
   ],
   "source": [
    "#画图  \n",
    "import numpy as np\n",
    "import matplotlib.pyplot as plt  \n",
    "x1=[]\n",
    "y1=[]\n",
    "for i in range(len(w_constraint)):\n",
    "    x1.append(i)\n",
    "    y1.append(w_constraint[i])\n",
    "l1=plt.plot(x1,y1,color='#607c8e',label='pocket')\n",
    "plt.xlabel('#iteration')\n",
    "plt.ylabel('#constraits')\n",
    "plt.legend()\n",
    "plt.show()\n",
    "                                 "
   ]
  },
  {
   "cell_type": "code",
   "execution_count": null,
   "metadata": {},
   "outputs": [],
   "source": []
  }
 ],
 "metadata": {
  "kernelspec": {
   "display_name": "Python 3",
   "language": "python",
   "name": "python3"
  },
  "language_info": {
   "codemirror_mode": {
    "name": "ipython",
    "version": 3
   },
   "file_extension": ".py",
   "mimetype": "text/x-python",
   "name": "python",
   "nbconvert_exporter": "python",
   "pygments_lexer": "ipython3",
   "version": "3.7.4"
  }
 },
 "nbformat": 4,
 "nbformat_minor": 4
}
