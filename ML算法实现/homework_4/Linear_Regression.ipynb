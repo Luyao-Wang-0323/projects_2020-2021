{
 "cells": [
  {
   "cell_type": "code",
   "execution_count": 2,
   "metadata": {},
   "outputs": [],
   "source": [
    "import numpy as np \n",
    "def loadData(filename):\n",
    "    data=open(filename,'r').readlines()\n",
    "    datasetx=[]\n",
    "    datasety=[]\n",
    "    for line in data:\n",
    "        Stringlist = ('1,'+line).split(',')\n",
    "        Stringlist[0]=float(Stringlist[0])\n",
    "        Stringlist[1]=float(Stringlist[1])\n",
    "        Stringlist[2]=float(Stringlist[2])\n",
    "        Stringlist[3]=float(Stringlist[3])\n",
    "        datasetx.append(Stringlist[:3])\n",
    "        datasety.append(Stringlist[3])\n",
    "    return np.array(datasetx),np.array(datasety)"
   ]
  },
  {
   "cell_type": "code",
   "execution_count": 25,
   "metadata": {},
   "outputs": [],
   "source": [
    "def Linear_Regression(X,y):\n",
    "    m,n=X.shape   \n",
    "    w= np.dot(np.dot(np.linalg.inv(X.T.dot(X)),(X.T)),y) #(D.T*D).-1 *D.T*y\n",
    "    return w\n",
    "  "
   ]
  },
  {
   "cell_type": "code",
   "execution_count": 26,
   "metadata": {},
   "outputs": [
    {
     "name": "stdout",
     "output_type": "stream",
     "text": [
      "weight: [0.01523535 1.08546357 3.99068855]\n"
     ]
    }
   ],
   "source": [
    "X,y=loadData(\"linear-regression.txt\")\n",
    "w=Linear_Regression(X,y)\n",
    "print('weight:',w)"
   ]
  },
  {
   "cell_type": "code",
   "execution_count": 27,
   "metadata": {},
   "outputs": [],
   "source": []
  },
  {
   "cell_type": "code",
   "execution_count": null,
   "metadata": {},
   "outputs": [],
   "source": []
  },
  {
   "cell_type": "code",
   "execution_count": null,
   "metadata": {},
   "outputs": [],
   "source": []
  }
 ],
 "metadata": {
  "kernelspec": {
   "display_name": "Python 3",
   "language": "python",
   "name": "python3"
  },
  "language_info": {
   "codemirror_mode": {
    "name": "ipython",
    "version": 3
   },
   "file_extension": ".py",
   "mimetype": "text/x-python",
   "name": "python",
   "nbconvert_exporter": "python",
   "pygments_lexer": "ipython3",
   "version": "3.7.7"
  }
 },
 "nbformat": 4,
 "nbformat_minor": 4
}
