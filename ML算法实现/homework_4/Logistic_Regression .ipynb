{
 "cells": [
  {
   "cell_type": "code",
   "execution_count": 1,
   "metadata": {},
   "outputs": [],
   "source": [
    "import numpy as np \n",
    "def loadData(filename):\n",
    "    data=open(filename,'r').readlines()\n",
    "    datasetx=[]\n",
    "    datasety=[]\n",
    "    for line in data:\n",
    "        Stringlist = ('1,'+line).split(',')\n",
    "        Stringlist[0]=float(Stringlist[0])\n",
    "        Stringlist[1]=float(Stringlist[1])\n",
    "        Stringlist[2]=float(Stringlist[2])\n",
    "        Stringlist[3]=float(Stringlist[3])\n",
    "        Stringlist[5]=int(Stringlist[5])\n",
    "        datasetx.append(Stringlist[:4])\n",
    "        datasety.append(Stringlist[5])\n",
    "    return np.array(datasetx),np.array(datasety)"
   ]
  },
  {
   "cell_type": "code",
   "execution_count": 2,
   "metadata": {},
   "outputs": [],
   "source": [
    "def logistic_Learning(X,y,learning_rate):\n",
    "    m,n=X.shape\n",
    "    w=np.random.random(n)\n",
    "    w_score={}\n",
    "    times=0\n",
    "    while True:      \n",
    "        s=np.dot(X,w)\n",
    "        loss=s-y\n",
    "        cost=np.sum(loss**2)/(2*m)\n",
    "        gradient=np.dot(X.T,loss)\n",
    "        w=w-learning_rate*gradient\n",
    "        \n",
    "        times+=1\n",
    "        if times>=7000:\n",
    "            predict=predict_y(X,w)\n",
    "            constraint=0\n",
    "            for p in range(len(predict)):\n",
    "                if predict[p]!=y[p]:\n",
    "                    constraint+=1\n",
    "            accuracy=1-float(constraint)/float(m)\n",
    "            print('accuracy:',accuracy)\n",
    "            return w\n",
    "        \n",
    "#指示函数\n",
    "def predict_y(X,w):\n",
    "    predict=np.dot(X,w)\n",
    "    predict[predict>=0]=1\n",
    "    predict[predict<0]=-1\n",
    "    return predict"
   ]
  },
  {
   "cell_type": "code",
   "execution_count": 3,
   "metadata": {},
   "outputs": [
    {
     "name": "stderr",
     "output_type": "stream",
     "text": [
      "/Users/luya/Downloads/ENTER/lib/python3.7/site-packages/numpy/core/fromnumeric.py:90: RuntimeWarning: overflow encountered in reduce\n",
      "  return ufunc.reduce(obj, axis, dtype, out, **passkwargs)\n",
      "/Users/luya/Downloads/ENTER/lib/python3.7/site-packages/ipykernel_launcher.py:9: RuntimeWarning: overflow encountered in square\n",
      "  if __name__ == '__main__':\n",
      "/Users/luya/Downloads/ENTER/lib/python3.7/site-packages/ipykernel_launcher.py:11: RuntimeWarning: invalid value encountered in subtract\n",
      "  # This is added back by InteractiveShellApp.init_path()\n"
     ]
    },
    {
     "name": "stdout",
     "output_type": "stream",
     "text": [
      "accuracy: 0.0\n",
      "weight: [nan nan nan nan]\n"
     ]
    },
    {
     "name": "stderr",
     "output_type": "stream",
     "text": [
      "/Users/luya/Downloads/ENTER/lib/python3.7/site-packages/ipykernel_launcher.py:29: RuntimeWarning: invalid value encountered in greater_equal\n",
      "/Users/luya/Downloads/ENTER/lib/python3.7/site-packages/ipykernel_launcher.py:30: RuntimeWarning: invalid value encountered in less\n"
     ]
    }
   ],
   "source": [
    "X,y=loadData(\"classification.txt\")\n",
    "learning_rate = 0.001\n",
    "w=logistic_Learning(X,y,learning_rate)\n",
    "print('weight:',w)"
   ]
  },
  {
   "cell_type": "code",
   "execution_count": null,
   "metadata": {},
   "outputs": [],
   "source": []
  }
 ],
 "metadata": {
  "kernelspec": {
   "display_name": "Python 3",
   "language": "python",
   "name": "python3"
  },
  "language_info": {
   "codemirror_mode": {
    "name": "ipython",
    "version": 3
   },
   "file_extension": ".py",
   "mimetype": "text/x-python",
   "name": "python",
   "nbconvert_exporter": "python",
   "pygments_lexer": "ipython3",
   "version": "3.7.4"
  }
 },
 "nbformat": 4,
 "nbformat_minor": 4
}
