{
 "cells": [
  {
   "cell_type": "code",
   "execution_count": null,
   "metadata": {},
   "outputs": [],
   "source": [
    "import numpy as np \n",
    "def loadData(filename):\n",
    "    data=open(filename,'r').readlines()\n",
    "    datasetx=[]\n",
    "    datasety=[]\n",
    "    for line in data:\n",
    "        Stringlist = ('1,'+line).split(',')\n",
    "        Stringlist[0]=float(Stringlist[0])\n",
    "        Stringlist[1]=float(Stringlist[1])\n",
    "        Stringlist[2]=float(Stringlist[2])\n",
    "        Stringlist[3]=float(Stringlist[3])\n",
    "        Stringlist[5]=int(Stringlist[5])\n",
    "        datasetx.append(Stringlist[:4])\n",
    "        datasety.append(Stringlist[5])\n",
    "    return np.array(datasetx),np.array(datasety)"
   ]
  },
  {
   "cell_type": "code",
   "execution_count": null,
   "metadata": {},
   "outputs": [],
   "source": [
    "def Percetron_Learning_nonlinear(X,y,learning_rate):\n",
    "    m,n=X.shape\n",
    "    w=np.random.random(n)\n",
    "    w_record={}\n",
    "    times=0\n",
    "    while True:\n",
    "        i=np.random.randint(m)\n",
    "        if y[i]==1 and np.dot(w,X[i,:])<0:\n",
    "            w=w+learning_rate*X[i,:]\n",
    "            continue\n",
    "        elif y[i]==-1 and np.dot(w,X[i,:])>=0:\n",
    "            w=w-learning_rate*X[i,:]\n",
    "            continue\n",
    "        predict=sgn(X,w)\n",
    "        contrait=0\n",
    "        for p in range(len(predict)):\n",
    "            if predict[p]!=y[p]:\n",
    "                contrait+=1\n",
    "        w_record[tuple(w)]=contrait        \n",
    "        times+=1\n",
    "        if times>7000:\n",
    "            sorted_record = sorted(w_record.items(), reverse=True, key=lambda x: x[1])\n",
    "            final_w=sorted_record[0][0]\n",
    "            accuracy=float(sorted_record[0][1])/float(m)\n",
    "            print('accuracy:',accuracy)\n",
    "            return final_w\n",
    " #指示函数\n",
    "def sgn(X,w):\n",
    "    predict=np.dot(X,w)\n",
    "    predict[predict>=0]=1\n",
    "    predict[predict<0]=-1\n",
    "    return predict"
   ]
  }
 ],
 "metadata": {
  "kernelspec": {
   "display_name": "Python 3",
   "language": "python",
   "name": "python3"
  },
  "language_info": {
   "codemirror_mode": {
    "name": "ipython",
    "version": 3
   },
   "file_extension": ".py",
   "mimetype": "text/x-python",
   "name": "python",
   "nbconvert_exporter": "python",
   "pygments_lexer": "ipython3",
   "version": "3.7.4"
  }
 },
 "nbformat": 4,
 "nbformat_minor": 4
}
