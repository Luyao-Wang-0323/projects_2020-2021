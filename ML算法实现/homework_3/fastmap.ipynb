{
 "cells": [
  {
   "cell_type": "code",
   "execution_count": 1,
   "metadata": {},
   "outputs": [],
   "source": [
    "from numpy import *\n",
    "import numpy as np \n",
    "def loadData(filename):\n",
    "    data=open(filename,'r').readlines()\n",
    "    dataset=[]\n",
    "    for line in data:\n",
    "        stringlist = line.strip('\\n').split('\\t')\n",
    "        if len(stringlist)>1:\n",
    "            stringlist[0]=float(stringlist[0])\n",
    "            stringlist[1]=float(stringlist[1])\n",
    "            stringlist[2]=float(stringlist[2])\n",
    "        dataset.append(stringlist)\n",
    "    return np.array(dataset)\n",
    "Dataset=loadData('fastmap-data.txt')\n",
    "word=loadData('fastmap-wordlist.txt')"
   ]
  },
  {
   "cell_type": "code",
   "execution_count": 2,
   "metadata": {},
   "outputs": [],
   "source": [
    "def find_function(Dataset):\n",
    "    Farthest= -1\n",
    "    for items in Dataset:\n",
    "        if items[2]>Farthest:\n",
    "            Farthest=items[2]\n",
    "    for items in Dataset:\n",
    "        if items[2]==Farthest:\n",
    "            (oa,ob,d_ab)=(items[0],items[1],Farthest)\n",
    "            break\n",
    "    return (oa,ob,d_ab)"
   ]
  },
  {
   "cell_type": "code",
   "execution_count": 3,
   "metadata": {},
   "outputs": [],
   "source": [
    "def cos(oa,ob,d_ab,Dataset,wordlist):\n",
    "    dt=list(Dataset)\n",
    "    wl=list(wordlist)\n",
    "    dictionary=dict()\n",
    "    for i in range(len(wl)):\n",
    "        oi=i+1 #first xi is correct,oi should start from 1 not 0.\n",
    "        d_ai=0\n",
    "        d_bi=0\n",
    "        for d in dt:\n",
    "            if (d[0]==oa and d[1]==oi) or (d[0]==oi and d[1]==oa):\n",
    "                d_ai=d[2]\n",
    "            if (d[0]==ob and d[1]==oi) or (d[0]==oi and d[1]==ob):\n",
    "                d_bi=d[2]\n",
    "            if d_ai and d_bi:\n",
    "                break\n",
    "        xi=(d_ai**2+d_ab**2-d_bi**2)/(2*d_ab)\n",
    "        dictionary[i]=xi\n",
    "    return dictionary  \n"
   ]
  },
  {
   "cell_type": "code",
   "execution_count": 4,
   "metadata": {},
   "outputs": [],
   "source": [
    "#update\n",
    "import math\n",
    "def update(dictionary,dataset):\n",
    "    dt=list(dataset)\n",
    "    for oi in range(1,11):\n",
    "        for element in dictionary:\n",
    "            if element+1==oi:#element start from 1\n",
    "                xi=dictionary[element]\n",
    "                break\n",
    "        for oj in range(oi+1,11):\n",
    "            for element in dictionary:\n",
    "                if element+1==oj:#element start from 1\n",
    "                    xj=dictionary[element]\n",
    "                    break\n",
    "            #print(dt)\n",
    "            for d in dt:\n",
    "                if (d[0]==oi and d[1]==oj) or (d[1]==oi and d[0]==oj):\n",
    "                    d_old_ij=d[2]\n",
    "                    d_new_ij=math.pow(abs(d_old_ij**2-(xi-xj)**2),0.5)\n",
    "                    d[2]=d_new_ij\n",
    "    return np.array(dt)\n"
   ]
  },
  {
   "cell_type": "code",
   "execution_count": 5,
   "metadata": {},
   "outputs": [
    {
     "data": {
      "image/png": "[encoded data removed]",
      "text/plain": [
       "<Figure size 432x288 with 1 Axes>"
      ]
     },
     "metadata": {
      "needs_background": "light"
     },
     "output_type": "display_data"
    },
    {
     "data": {
      "text/plain": [
       "[[3.875, 6.0625],\n",
       " [3.0, 7.749999999999999],\n",
       " [0.0, 4.0],\n",
       " [1.0416666666666667, 1.1875],\n",
       " [2.4583333333333335, 0.0],\n",
       " [9.5, 5.1875],\n",
       " [2.4583333333333335, 8.0],\n",
       " [1.5, 1.5624999999999996],\n",
       " [2.4583333333333335, 1.0],\n",
       " [12.0, 4.0]]"
      ]
     },
     "execution_count": 5,
     "metadata": {},
     "output_type": "execute_result"
    }
   ],
   "source": [
    "import matplotlib.pyplot as plt\n",
    "def fastmap(Dataset,word):\n",
    "    dt=list(Dataset)\n",
    "    wl=list(word)\n",
    "    oa,ob,d_ab=find_function(Dataset)\n",
    "    dictionary=cos(oa,ob,d_ab,Dataset,word)\n",
    "    return dictionary\n",
    "\n",
    "def main(Dataset,word):\n",
    "    dictionary1=fastmap(Dataset,word)\n",
    "    sub_dataset=update(dictionary1,Dataset)\n",
    "    dictionary2=fastmap(sub_dataset,word)\n",
    "    list_2D=list()\n",
    "    for i in range(len(word)):\n",
    "        x=dictionary1[i]\n",
    "        y=dictionary2[i]\n",
    "        list_2D.append([x,y])\n",
    "        \n",
    "    fig, ax = plt.subplots()\n",
    "    for i in range(10):\n",
    "        ax.scatter(list_2D[i][0], list_2D[i][1])\n",
    "    plt.show()\n",
    "    \n",
    "    return list_2D\n",
    "    \n",
    "main(Dataset,word)   "
   ]
  },
  {
   "cell_type": "code",
   "execution_count": null,
   "metadata": {},
   "outputs": [],
   "source": []
  },
  {
   "cell_type": "code",
   "execution_count": null,
   "metadata": {},
   "outputs": [],
   "source": []
  }
 ],
 "metadata": {
  "kernelspec": {
   "display_name": "Python 3",
   "language": "python",
   "name": "python3"
  },
  "language_info": {
   "codemirror_mode": {
    "name": "ipython",
    "version": 3
   },
   "file_extension": ".py",
   "mimetype": "text/x-python",
   "name": "python",
   "nbconvert_exporter": "python",
   "pygments_lexer": "ipython3",
   "version": "3.7.4"
  }
 },
 "nbformat": 4,
 "nbformat_minor": 4
}
