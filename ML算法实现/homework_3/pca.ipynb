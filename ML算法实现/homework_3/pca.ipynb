{
 "cells": [
  {
   "cell_type": "markdown",
   "metadata": {},
   "source": [
    "Group Members: Luyao Wang, Di Jin, Yingqi Lin"
   ]
  },
  {
   "cell_type": "code",
   "execution_count": 1,
   "metadata": {},
   "outputs": [],
   "source": [
    "from numpy import *\n",
    "import numpy as np \n",
    "def loadData(filename):\n",
    "    data=open(filename,'r').readlines()\n",
    "    dataset=[]\n",
    "    for line in data:\n",
    "        stringlist = line.strip('\\n').split('\\t')\n",
    "        stringlist[0]=float(stringlist[0])\n",
    "        stringlist[1]=float(stringlist[1])\n",
    "        stringlist[2]=float(stringlist[2])\n",
    "        dataset.append(stringlist)\n",
    "    return np.array(dataset)"
   ]
  },
  {
   "cell_type": "code",
   "execution_count": 2,
   "metadata": {},
   "outputs": [],
   "source": [
    "from numpy import *\n",
    "import numpy as np \n",
    "def pca(dataset, k):# k is the goal-dimension\n",
    "    miu = np.mean(dataset,axis=0)\n",
    "    after_dataset = dataset - miu  \n",
    "    covmat = np.cov(after_dataset,rowvar=0)\n",
    "    eigVals, eigVects = np.linalg.eig(np.mat(covmat))\n",
    "    # argsort: from small to big\n",
    "    eigValInd = np.argsort(eigVals)\n",
    "    eigValInd = eigValInd[:-(k+1):-1] # the index of top n eigcals\n",
    "    redEigVects = eigVects[:,eigValInd]\n",
    "    #lowdatamat is the k-dimension data.\n",
    "    lowDDataMat =  redEigVects.T * after_dataset.T\n",
    "    return lowDDataMat"
   ]
  },
  {
   "cell_type": "code",
   "execution_count": 3,
   "metadata": {},
   "outputs": [
    {
     "name": "stdout",
     "output_type": "stream",
     "text": [
      "[[ 10.87667009 -12.68609992   0.43255106 ...  -2.92254009  11.18317124\n",
      "   14.2299014 ]\n",
      " [  7.37396173  -4.24879151   0.26700852 ...   2.41914881   4.20349275\n",
      "    5.64409544]]\n"
     ]
    }
   ],
   "source": [
    "dataset=loadData('pca-data.txt')\n",
    "print(pca(dataset,2))"
   ]
  },
  {
   "cell_type": "code",
   "execution_count": null,
   "metadata": {},
   "outputs": [],
   "source": []
  },
  {
   "cell_type": "code",
   "execution_count": null,
   "metadata": {},
   "outputs": [],
   "source": []
  },
  {
   "cell_type": "code",
   "execution_count": null,
   "metadata": {},
   "outputs": [],
   "source": []
  }
 ],
 "metadata": {
  "kernelspec": {
   "display_name": "Python 3",
   "language": "python",
   "name": "python3"
  },
  "language_info": {
   "codemirror_mode": {
    "name": "ipython",
    "version": 3
   },
   "file_extension": ".py",
   "mimetype": "text/x-python",
   "name": "python",
   "nbconvert_exporter": "python",
   "pygments_lexer": "ipython3",
   "version": "3.7.4"
  }
 },
 "nbformat": 4,
 "nbformat_minor": 4
}
