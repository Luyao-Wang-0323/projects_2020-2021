{
 "cells": [
  {
   "cell_type": "code",
   "execution_count": 1,
   "metadata": {},
   "outputs": [],
   "source": [
    "#Luyao Wang, Di Jin, Yingqi Lin"
   ]
  },
  {
   "cell_type": "code",
   "execution_count": 12,
   "metadata": {},
   "outputs": [
    {
     "name": "stdout",
     "output_type": "stream",
     "text": [
      "[0.02533085 0.02856594 0.02856594 0.02856594 0.02533085 0.02533085]\n",
      "0.007232792142628147\n",
      "equation : np.sum(alphas[i]*y[i]*(np.dot(x[i],x.T) + 1)**2+b,axis=0)\n",
      "equation :0.028565939974777663X1^2 + 0.028565940033567456X2^2 + 0.028565940067674767X1 + 0.025330848302697224X2 + 0.02533084824893922X1X2 + 0.032563640460811505\n",
      "kernel function:  k[i, j] = (np.dot(xi.T,xj) + 1)**2\n",
      "support vectors:\n",
      " [[ -8.47422847   5.15621613]\n",
      " [-10.260969     2.07391791]\n",
      " [  1.3393313  -10.29098822]\n",
      " [  9.67917724   4.3759541 ]\n",
      " [ -6.80002274  -7.02384335]\n",
      " [  9.90143538  -0.31483149]]\n"
     ]
    },
    {
     "data": {
      "image/png": "[encoded data removed]",
      "text/plain": [
       "<Figure size 432x288 with 1 Axes>"
      ]
     },
     "metadata": {
      "needs_background": "light"
     },
     "output_type": "display_data"
    }
   ],
   "source": [
    "import numpy as np\n",
    "from cvxopt import matrix, solvers\n",
    "import matplotlib.pyplot as plt\n",
    "\n",
    "def loadDataSet(filename):\n",
    "    fr = open(filename)\n",
    "    data = []\n",
    "    label = []\n",
    "    for line in fr.readlines():\n",
    "        lineAttr = line.strip().split(',')\n",
    "        data.append([float(x) for x in lineAttr[:-1]])\n",
    "        label.append(float(lineAttr[-1]))\n",
    "    return data,label\n",
    "\n",
    "def kernel(x):\n",
    "    m, n = x.shape\n",
    "    k = np.zeros((m, m))\n",
    "    for i, xi in enumerate(x):\n",
    "        for j, xj in enumerate(x):\n",
    "            k[i, j] = (np.dot(xi.T,xj) + 1)**2             \n",
    "    return k\n",
    "\n",
    "\n",
    "def fit(x, y):\n",
    "    row = x.shape[0]\n",
    "    k = kernel(x)\n",
    "    P = matrix(np.outer(y, y)*k)\n",
    "    q = matrix(-np.ones((row, 1)))\n",
    "    G = matrix(-np.eye(row))\n",
    "    h = matrix(np.zeros(row))\n",
    "    A = matrix(y.reshape(1, -1))\n",
    "    b = matrix(np.zeros(1))\n",
    "    solvers.options['show_progress'] = False\n",
    "    solver = solvers.qp(P, q, G, h, A, b)\n",
    "    alphas = np.array(solver['x'])\n",
    "    return alphas\n",
    "\n",
    "def plot_data(x, y, ax):\n",
    "    Color = ['red', 'blue']\n",
    "    unique = np.unique(y)\n",
    "    for li in range(len(unique)):\n",
    "        x_sub = x[y == unique[li]]\n",
    "        ax.scatter(x_sub[:, 0], x_sub[:, 1],s=5, c = Color[li])\n",
    "\n",
    "def predict(alphas,y,x,b):\n",
    "    m, n = x.shape\n",
    "    ayk=[]\n",
    "    pre=[]\n",
    "    for i in range(len(x)):\n",
    "        k= (np.dot(x[i],x.T) + 1)**2\n",
    "        X=alphas[i]*y[i]*k+b\n",
    "        ayk.append(list(X))\n",
    "    ayk=np.array(ayk)\n",
    "    wxb=np.sum(ayk,axis=0)\n",
    "    for i in X:\n",
    "        if i>=0:\n",
    "            pre.append(1)\n",
    "        else:\n",
    "            pre.append(-1)          \n",
    "    return pre\n",
    "\n",
    "\n",
    "    \n",
    "X, Y = loadDataSet('nonlinsep.txt')\n",
    "x=np.array(X)\n",
    "y=np.array(Y)\n",
    "# fit svm classifier\n",
    "alphas = fit(x, y)\n",
    "# get weights\n",
    "w = np.sum(alphas * y[:, None] * kernel(x), axis = 0)\n",
    "b = y - alphas*y*kernel(x)\n",
    "p=predict(alphas,y,x,b[0])\n",
    "\n",
    "# get bias\n",
    "cond = (alphas > 1e-5).reshape(-1)\n",
    "b = y[cond] - alphas[cond]*y[cond]*kernel(x[cond])\n",
    "bias = b[0]\n",
    "norm = np.linalg.norm(w)\n",
    "w, bias = w / norm, bias / norm\n",
    "print(w[cond])\n",
    "print(np.sum(bias))\n",
    "print('equation : np.sum(alphas[i]*y[i]*(np.dot(x[i],x.T) + 1)**2+b,axis=0)') \n",
    "\n",
    "# show data and w\n",
    "fig, ax = plt.subplots()\n",
    "ax.scatter(x[cond][:, 0], x[cond][:, 1], s=20,c ='black')\n",
    "plot_data(x, y, ax)\n",
    "print('kernel function: ',\"k[i, j] = (np.dot(xi.T,xj) + 1)**2\")\n",
    "print('support vectors:\\n',x[cond])\n",
    "plt.show()"
   ]
  },
  {
   "cell_type": "code",
   "execution_count": null,
   "metadata": {},
   "outputs": [],
   "source": []
  },
  {
   "cell_type": "code",
   "execution_count": null,
   "metadata": {},
   "outputs": [],
   "source": []
  },
  {
   "cell_type": "code",
   "execution_count": null,
   "metadata": {},
   "outputs": [],
   "source": []
  },
  {
   "cell_type": "code",
   "execution_count": null,
   "metadata": {},
   "outputs": [],
   "source": []
  }
 ],
 "metadata": {
  "kernelspec": {
   "display_name": "Python 3",
   "language": "python",
   "name": "python3"
  },
  "language_info": {
   "codemirror_mode": {
    "name": "ipython",
    "version": 3
   },
   "file_extension": ".py",
   "mimetype": "text/x-python",
   "name": "python",
   "nbconvert_exporter": "python",
   "pygments_lexer": "ipython3",
   "version": "3.7.4"
  }
 },
 "nbformat": 4,
 "nbformat_minor": 4
}
