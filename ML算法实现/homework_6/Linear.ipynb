{
 "cells": [
  {
   "cell_type": "code",
   "execution_count": 1,
   "metadata": {},
   "outputs": [],
   "source": [
    "#Luyao Wang, Di Jin, Yingqi Lin"
   ]
  },
  {
   "cell_type": "code",
   "execution_count": 3,
   "metadata": {},
   "outputs": [
    {
     "name": "stdout",
     "output_type": "stream",
     "text": [
      "support vectors: \n",
      " [[0.24979414 0.18230306]\n",
      " [0.3917889  0.96675591]\n",
      " [0.02066458 0.27003158]]\n",
      "equation is: y= 1.877334082268304 x + -0.0277033676861688\n"
     ]
    },
    {
     "data": {
      "image/png": "[encoded data removed]",
      "text/plain": [
       "<Figure size 432x288 with 1 Axes>"
      ]
     },
     "metadata": {
      "needs_background": "light"
     },
     "output_type": "display_data"
    }
   ],
   "source": [
    "import numpy as np\n",
    "from cvxopt import matrix, solvers\n",
    "import matplotlib.pyplot as plt\n",
    "\n",
    "def loadDataSet(filename):\n",
    "    fr = open(filename)\n",
    "    data = []\n",
    "    label = []\n",
    "    for line in fr.readlines():\n",
    "        lineAttr = line.strip().split(',')\n",
    "        data.append([float(x) for x in lineAttr[:-1]])\n",
    "        label.append(float(lineAttr[-1]))\n",
    "    return data,label\n",
    "\n",
    "def fit(x, y):\n",
    "    row = x.shape[0]\n",
    "    K = y[:,None] * x\n",
    "    K = np.dot(K, K.T)\n",
    "    P = matrix(K)\n",
    "    q = matrix(-np.ones((row, 1)))\n",
    "    G = matrix(-np.eye(row))\n",
    "    h = matrix(np.zeros(row))\n",
    "    A = matrix(y.reshape(1, -1))\n",
    "    b = matrix(np.zeros(1))\n",
    "    solvers.options['show_progress'] = False\n",
    "    solver = solvers.qp(P, q, G, h, A, b)\n",
    "    alphas = np.array(solver['x'])\n",
    "    return alphas\n",
    "\n",
    "def plot_data(x, y, ax):\n",
    "    Color = ['red', 'blue']\n",
    "    unique = np.unique(y)\n",
    "    for li in range(len(unique)):\n",
    "        x_sub = x[y == unique[li]]\n",
    "        ax.scatter(x_sub[:, 0], x_sub[:, 1], s=5,c = Color[li])\n",
    "\n",
    "def plot_wxb(ax, w, b):\n",
    "    slope = -w[0] / w[1]\n",
    "    intercept = -b / w[1]\n",
    "    x = np.arange(0,10,0.1)\n",
    "    ax.plot(x, x * slope + intercept, 'k-')\n",
    "    print('equation is: ''y=',slope,'x','+',intercept)\n",
    "\n",
    "\n",
    "\n",
    "\n",
    "x, y = loadDataSet('linsep.txt')\n",
    "x=np.array(x)\n",
    "y=np.array(y)\n",
    "# fit svm classifier\n",
    "alphas = fit(x, y)\n",
    "# get weights\n",
    "w = np.sum(alphas * y[:, None] * x, axis = 0)\n",
    "# get bias\n",
    "cond = (alphas > 1e-5).reshape(-1)\n",
    "b = y[cond] - np.dot(x[cond], w)\n",
    "bias = b[0]\n",
    "print('support vectors: \\n',x[cond])\n",
    "\n",
    "# show data and w\n",
    "fig, ax = plt.subplots()\n",
    "ax.scatter(x[cond][:, 0], x[cond][:, 1], s=30, c ='black')\n",
    "plot_wxb(ax, w, bias)\n",
    "plot_data(x, y, ax)\n",
    "plt.xlim((0.0,1.0))\n",
    "plt.ylim((0.0,1.0))\n",
    "plt.show()\n"
   ]
  },
  {
   "cell_type": "code",
   "execution_count": null,
   "metadata": {},
   "outputs": [],
   "source": []
  }
 ],
 "metadata": {
  "kernelspec": {
   "display_name": "Python 3",
   "language": "python",
   "name": "python3"
  },
  "language_info": {
   "codemirror_mode": {
    "name": "ipython",
    "version": 3
   },
   "file_extension": ".py",
   "mimetype": "text/x-python",
   "name": "python",
   "nbconvert_exporter": "python",
   "pygments_lexer": "ipython3",
   "version": "3.7.4"
  }
 },
 "nbformat": 4,
 "nbformat_minor": 4
}
