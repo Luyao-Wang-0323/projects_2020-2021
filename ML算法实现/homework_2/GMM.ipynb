{
 "cells": [
  {
   "cell_type": "code",
   "execution_count": null,
   "metadata": {},
   "outputs": [],
   "source": [
    "#Luyao Wang, Di Jin, Yingqi Lin"
   ]
  },
  {
   "cell_type": "code",
   "execution_count": 1,
   "metadata": {},
   "outputs": [],
   "source": [
    "#get dataset---array\n",
    "from numpy import*\n",
    "\n",
    "def LoadDataSet(filename):\n",
    "    global dataset_ls\n",
    "    File = open(filename, 'r').readlines()\n",
    "    dataset =[]\n",
    "    for line in File:\n",
    "        stringlist = line.strip('\\n').split(',')\n",
    "        stringlist[0]=float(stringlist[0])\n",
    "        stringlist[1]=float(stringlist[1])\n",
    "        dataset.append(stringlist)\n",
    "    dataset_ls=dataset\n",
    "    return array(dataset)\n"
   ]
  },
  {
   "cell_type": "code",
   "execution_count": 2,
   "metadata": {},
   "outputs": [],
   "source": [
    "#get random ric\n",
    "import numpy as np\n",
    "def random_ric():\n",
    "    random_ric_M=np.random.randint(10,size=(150,3))\n",
    "    return random_ric_M\n"
   ]
  },
  {
   "cell_type": "code",
   "execution_count": 3,
   "metadata": {},
   "outputs": [],
   "source": [
    "#normalize function--get ric_M\n",
    "from numpy import*\n",
    "\n",
    "def normalize(random_ric_M):\n",
    "    ric_M=np.zeros((150, 3))\n",
    "    ric_M[:,0]=random_ric_M[:,0]/random_ric_M.sum(axis=0)[0]\n",
    "    ric_M[:,1]=random_ric_M[:,1]/random_ric_M.sum(axis=0)[1]\n",
    "    ric_M[:,2]=random_ric_M[:,2]/random_ric_M.sum(axis=0)[2]\n",
    "    return ric_M\n"
   ]
  },
  {
   "cell_type": "code",
   "execution_count": 4,
   "metadata": {},
   "outputs": [],
   "source": [
    "from numpy import*\n",
    "#recompute Mu based on current ric_M\n",
    "def update_mu(dataset,ric_M):\n",
    "    Mu = np.zeros((3, 2))\n",
    "    for i in [0,1,2]:\n",
    "        Mu[i] = np.average(dataset, axis=0, weights=ric_M[:, i])\n",
    "    return Mu\n",
    "#recompute var based on current ric_M\n",
    "def update_var(dataset,ric_M,Mu):\n",
    "    var = np.zeros((3, 2))\n",
    "    for i in [0,1,2]:\n",
    "        var[i] = np.average((dataset - Mu[i]) ** 2, axis=0, weights=ric_M[:, i])\n",
    "    return var\n"
   ]
  },
  {
   "cell_type": "code",
   "execution_count": 5,
   "metadata": {},
   "outputs": [],
   "source": [
    "#update pai based on current ric_M\n",
    "def update_pai(ric_M):\n",
    "    pai = ric_M.sum(axis=0) / ric_M.sum()\n",
    "    return pai\n"
   ]
  },
  {
   "cell_type": "code",
   "execution_count": 6,
   "metadata": {},
   "outputs": [],
   "source": [
    "from scipy.stats import multivariate_normal\n",
    "# recomputer ric_M based on current Mu,var,pai\n",
    "def update_ric_M(dataset,Mu,var,pai):\n",
    "    R = np.zeros(((150, 3)))\n",
    "    for i in [0,1,2]:\n",
    "        R[:, i]=pai[i] * multivariate_normal.pdf(dataset, Mu[i], np.diag(var[i]))\n",
    "    ric_M= R/R.sum(axis=1).reshape(-1, 1)\n",
    "    return ric_M\n"
   ]
  },
  {
   "cell_type": "code",
   "execution_count": 7,
   "metadata": {},
   "outputs": [],
   "source": [
    "#calculate log--decide when to stop \n",
    "def logLH(dataset, pai, Mu, var):\n",
    "    n_clusters = 3 #column\n",
    "    n_points = 150 #row\n",
    "    R = np.zeros(((n_points, n_clusters)))#build an empty 150*3array\n",
    "    for i in range(n_clusters):\n",
    "        R[:, i] = pai[i] * multivariate_normal.pdf(dataset, Mu[i], np.diag(var[i]))\n",
    "    return np.mean(np.log(R.sum(axis=1)))\n"
   ]
  },
  {
   "cell_type": "code",
   "execution_count": 11,
   "metadata": {},
   "outputs": [],
   "source": [
    "#主函数\n",
    "import numpy as np\n",
    "def GMM():\n",
    "    # get data\n",
    "    dataset=LoadDataSet('clusters.txt')\n",
    "    #initialize ric\n",
    "    random_ric_M=random_ric()\n",
    "    ric_M=normalize(random_ric_M)\n",
    "    #initialize parameters\n",
    "    pai=update_pai(ric_M)\n",
    "    Mu=update_mu(dataset,ric_M)\n",
    "    var=update_var(dataset,ric_M,Mu)\n",
    "    \n",
    "    count=0\n",
    "    log=0\n",
    "    #recompute\n",
    "    while count<1000:\n",
    "        #M\n",
    "        before_log=log\n",
    "        ric_M=update_ric_M(dataset,Mu,var,pai)\n",
    "        #E:\n",
    "        Mu=update_mu(dataset,ric_M)\n",
    "        var=update_var(dataset,ric_M,Mu)\n",
    "        pai=update_pai(ric_M)\n",
    "        log = logLH(dataset, pai, Mu, var)\n",
    "        #end conditions\n",
    "        if abs(log-before_log)<0.001:\n",
    "            return Mu,var,pai,ric_M\n",
    "        else:\n",
    "            count+=1\n",
    "    return Mu,var,pai,ric_M\n",
    "    "
   ]
  },
  {
   "cell_type": "code",
   "execution_count": 12,
   "metadata": {},
   "outputs": [],
   "source": [
    "import matplotlib.pyplot as plt\n",
    "from matplotlib.patches import Ellipse\n",
    "\n",
    "#visualize result\n",
    "def plot_clusters(dataset, Mu, var):\n",
    "    colors = ['b', 'g', 'r']\n",
    "    n_clusters = 3\n",
    "    plt.figure(figsize=(10, 8))\n",
    "    plt.axis([-10, 15, -5, 15])\n",
    "    plt.scatter(dataset[:, 0], dataset[:, 1], s=5)\n",
    "    ax = plt.gca()\n",
    "    for i in range(n_clusters):\n",
    "        plot_args = {'fc': 'None', 'lw': 2, 'edgecolor': colors[i], 'ls': ':'}\n",
    "        ellipse = Ellipse(Mu[i], 3 * var[i][0], 3 * var[i][1], **plot_args)\n",
    "        ax.add_patch(ellipse)         \n",
    "    plt.show()\n"
   ]
  },
  {
   "cell_type": "code",
   "execution_count": 13,
   "metadata": {},
   "outputs": [
    {
     "name": "stdout",
     "output_type": "stream",
     "text": [
      "Mu:\n",
      " [[ 5.25049585  4.50338157]\n",
      " [ 1.42465616  1.23970279]\n",
      " [-0.98239332 -0.94902025]] \n",
      "Covariance Matrix:\n",
      " [[2.34021713 2.75953961]\n",
      " [5.10969402 2.17307382]\n",
      " [1.134117   1.37844617]] \n",
      "Amplitude:\n",
      " [0.28400152 0.23720799 0.47879049] \n",
      "\n"
     ]
    },
    {
     "data": {
      "image/png": "[encoded data removed]",
      "text/plain": [
       "<Figure size 720x576 with 1 Axes>"
      ]
     },
     "metadata": {
      "needs_background": "light"
     },
     "output_type": "display_data"
    }
   ],
   "source": [
    "#run    \n",
    "Mu,var,pai,ric_M=GMM() \n",
    "print('Mu:\\n',Mu,'\\nCovariance Matrix:\\n',var,'\\nAmplitude:\\n',pai,'\\n')\n",
    "dataset=LoadDataSet('clusters.txt')\n",
    "plot_clusters(dataset, Mu, var)"
   ]
  },
  {
   "cell_type": "code",
   "execution_count": null,
   "metadata": {},
   "outputs": [],
   "source": []
  }
 ],
 "metadata": {
  "kernelspec": {
   "display_name": "Python 3",
   "language": "python",
   "name": "python3"
  },
  "language_info": {
   "codemirror_mode": {
    "name": "ipython",
    "version": 3
   },
   "file_extension": ".py",
   "mimetype": "text/x-python",
   "name": "python",
   "nbconvert_exporter": "python",
   "pygments_lexer": "ipython3",
   "version": "3.7.4"
  }
 },
 "nbformat": 4,
 "nbformat_minor": 4
}
