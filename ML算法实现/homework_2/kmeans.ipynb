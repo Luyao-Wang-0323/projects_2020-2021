{
 "cells": [
  {
   "cell_type": "code",
   "execution_count": null,
   "metadata": {},
   "outputs": [],
   "source": [
    "#Luyao Wang, Di Jin, Yingqi Lin"
   ]
  },
  {
   "cell_type": "code",
   "execution_count": 32,
   "metadata": {},
   "outputs": [],
   "source": [
    "#get dataset---matrix\n",
    "from numpy import*\n",
    "def LoadDataSet(filename):\n",
    "    global dataset_ls\n",
    "    File = open(filename, 'r').readlines()\n",
    "    dataset =[]\n",
    "    for line in File:\n",
    "        stringlist = line.strip('\\n').split(',')\n",
    "        stringlist[0]=float(stringlist[0])\n",
    "        stringlist[1]=float(stringlist[1])\n",
    "        dataset.append(stringlist)\n",
    "    dataset_ls=dataset\n",
    "    return array(dataset)\n"
   ]
  },
  {
   "cell_type": "code",
   "execution_count": 33,
   "metadata": {},
   "outputs": [],
   "source": [
    "# random dict_centroid\n",
    "def inite_centroid(dataset,dict_centroid,k):\n",
    "    x_mini= dataset[dataset[:,0].argsort()[0],0]\n",
    "    y_mini= dataset[dataset[:,1].argsort()[0],1]\n",
    "    x_Max= dataset[dataset[:,0].argsort()[-1],0]\n",
    "    y_Max= dataset[dataset[:,1].argsort()[-1],1]\n",
    "    for i in range(k):#k=3!!!!!!!!!!!!!!!!!!!!!!!\n",
    "        dict_centroid[i]=(random.uniform(int(x_mini), int(x_Max)),random.uniform(int(y_mini), int(y_Max)))\n",
    "    return dict_centroid\n"
   ]
  },
  {
   "cell_type": "code",
   "execution_count": 34,
   "metadata": {},
   "outputs": [],
   "source": [
    "import numpy as np\n",
    "\n",
    "#get centroids which is nearest to point1 \n",
    "def distance(point1, dict_centroid):#point[x,y]\n",
    "    dic_dist=dict()\n",
    "    for k in dict_centroid:\n",
    "        distance= np.sqrt(pow(point1[0]-dict_centroid[k][0],2)+pow(point1[1]-dict_centroid[k][1],2))\n",
    "        dic_dist[k]=distance\n",
    "    sort_dist=sorted(dic_dist.items(),key=lambda item:item[1])\n",
    "    near_c=(sort_dist[0][0],dict_centroid[sort_dist[0][0]])\n",
    "    return near_c\n"
   ]
  },
  {
   "cell_type": "code",
   "execution_count": 35,
   "metadata": {},
   "outputs": [],
   "source": [
    "#update list_cluster\n",
    "def update_list_cluster(near_c,point1,dataset,list_cluster):\n",
    "    p1=list(point1)\n",
    "    i=dataset.index(p1)\n",
    "    #update\n",
    "    if len(list_cluster)==0 or list_cluster[i]!=near_c[0]:\n",
    "        list_cluster[i]=near_c[0]\n",
    "    return list_cluster\n",
    "    "
   ]
  },
  {
   "cell_type": "code",
   "execution_count": 36,
   "metadata": {},
   "outputs": [],
   "source": [
    "#get sub_data\n",
    "def extract_point(dataset,list_cluster,c):\n",
    "    list1=list_cluster\n",
    "    sub_data=[]\n",
    "    n=0\n",
    "    while n < len(dataset):\n",
    "        if list1[n]== c:\n",
    "            sub_data.append(dataset[n])\n",
    "        n=n+1\n",
    "    return sub_data "
   ]
  },
  {
   "cell_type": "code",
   "execution_count": 37,
   "metadata": {},
   "outputs": [],
   "source": [
    "#update centroid\n",
    "def cal_centroids(sub_data):\n",
    "    A=np.array(sub_data)\n",
    "    return np.mean(A,axis=0)"
   ]
  },
  {
   "cell_type": "code",
   "execution_count": 38,
   "metadata": {},
   "outputs": [],
   "source": [
    "import numpy as np\n",
    "\n",
    "dataset_ls=[]# original data on List\n",
    "data=LoadDataSet('clusters.txt')#get data on array,and dataset_ls: data on List\n",
    "#print(dataset_ls,data)\n",
    "\n",
    "def k_means(filename):\n",
    "    global Continue #end condition\n",
    "    global dataset_ls\n",
    "    global data\n",
    "    global k\n",
    "    \n",
    "    #initialize\n",
    "    k=3\n",
    "    dict_centroid=dict()#{'c':(x,y)}    \n",
    "    list_cluster=['' for n in range(len(data))]#['c']: list\n",
    "    inite_centroid(data,dict_centroid,k)\n",
    "    \n",
    "    \n",
    "    Continue = True\n",
    "    times=0\n",
    "    while (Continue and times<100):\n",
    "        before=list(list_cluster)\n",
    "        #reassign centroids\n",
    "        for point in data:\n",
    "            near_c=distance(point, dict_centroid)\n",
    "            update_list_cluster(near_c,point,dataset_ls,list_cluster)\n",
    "       \n",
    "        #ideal end condition: centroid stop changing\n",
    "        if before == list_cluster:\n",
    "            Continue=False\n",
    "            \n",
    "        #recompute centroids\n",
    "        list1=list_cluster \n",
    "        list_cluster_unique = list(set(list1)) \n",
    "        difference=[None for n in range(len(list_cluster_unique))]\n",
    "        for c in list_cluster_unique:\n",
    "            sub_data=extract_point(data,list_cluster,c)\n",
    "            new_centroids=cal_centroids(sub_data)\n",
    "            new_centroids_point=(float(new_centroids[0]),float(new_centroids[1]))\n",
    "            difference[c]= np.sqrt(pow(new_centroids_point[0]-dict_centroid[c][0],2)+pow(new_centroids_point[1]-dict_centroid[c][1],2))\n",
    "            dict_centroid[c]= (new_centroids[0],new_centroids[1])\n",
    "        \n",
    "        #end condition:differences<0.001\n",
    "        count=0\n",
    "        for d in range(len(difference)):\n",
    "            if difference[d]<0.001:\n",
    "                count+=1\n",
    "        if count==3:\n",
    "            Continue=False\n",
    "        #end condition: limited times of loop\n",
    "        times+=1\n",
    "    return dict_centroid,list_cluster"
   ]
  },
  {
   "cell_type": "code",
   "execution_count": 39,
   "metadata": {},
   "outputs": [
    {
     "name": "stdout",
     "output_type": "stream",
     "text": [
      "{0: (5.433123874157894, 4.862675026605265), 1: (-1.0394086163975909, -0.6791968002650602), 2: (2.8834971090689647, 1.358261948)}\n"
     ]
    }
   ],
   "source": [
    "#run\n",
    "centroids,clusterAssment=k_means('clusters.txt')\n",
    "print(centroids)"
   ]
  },
  {
   "cell_type": "code",
   "execution_count": 40,
   "metadata": {},
   "outputs": [],
   "source": [
    "import matplotlib.pyplot as plt\n",
    "#visualize result\n",
    "def showCluster(data,centroids,clusterAssment):     \n",
    "    mark = []    \n",
    "    # draw all samples\n",
    "    mark = ['or', 'ob', 'og', 'ok', '^r', '+r', 'sr', 'dr', '<r', 'pr']\n",
    "    for i in range(len(data)):\n",
    "        markIndex = int(clusterAssment[i])\n",
    "        plt.plot(data[i, 0], data[i, 1], mark[markIndex],markersize = 5)\n",
    " \n",
    "    mark = ['Dr', 'Db', 'Dg', 'Dk', '^b', '+b', 'sb', 'db', '<b', 'pb']\n",
    "    # draw the centroids\n",
    "    for i in range(k):\n",
    "        plt.plot(centroids[i][0], centroids[i][1], mark[i], markersize = 12)\n",
    " \n",
    "    plt.show()\n",
    "\n"
   ]
  },
  {
   "cell_type": "code",
   "execution_count": 41,
   "metadata": {},
   "outputs": [
    {
     "data": {
      "image/png": "[encoded data removed]",
      "text/plain": [
       "<Figure size 432x288 with 1 Axes>"
      ]
     },
     "metadata": {
      "needs_background": "light"
     },
     "output_type": "display_data"
    }
   ],
   "source": [
    "#run\n",
    "showCluster(data, centroids, clusterAssment)"
   ]
  },
  {
   "cell_type": "code",
   "execution_count": null,
   "metadata": {},
   "outputs": [],
   "source": []
  }
 ],
 "metadata": {
  "kernelspec": {
   "display_name": "Python 3",
   "language": "python",
   "name": "python3"
  },
  "language_info": {
   "codemirror_mode": {
    "name": "ipython",
    "version": 3
   },
   "file_extension": ".py",
   "mimetype": "text/x-python",
   "name": "python",
   "nbconvert_exporter": "python",
   "pygments_lexer": "ipython3",
   "version": "3.7.4"
  }
 },
 "nbformat": 4,
 "nbformat_minor": 4
}
